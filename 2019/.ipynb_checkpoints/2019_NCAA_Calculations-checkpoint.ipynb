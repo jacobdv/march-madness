{
 "cells": [
  {
   "cell_type": "code",
   "execution_count": null,
   "metadata": {},
   "outputs": [],
   "source": [
    "# Imports\n",
    "import pandas as pd\n",
    "import numpy as np\n",
    "import matplotlib.pyplot as plt\n",
    "import scipy.stats as stats"
   ]
  },
  {
   "cell_type": "code",
   "execution_count": null,
   "metadata": {},
   "outputs": [],
   "source": [
    "# Initial set up and formatting of table. Retyping data for calculations.\n",
    "ncaa = pd.read_csv(\"2019_Resources/2019_season.csv\")\n",
    "ncaa = ncaa.drop([0])\n",
    "ncaa = ncaa.drop([\"Unnamed: 8\",\"Unnamed: 11\",\"Unnamed: 14\",\"Unnamed: 17\",\"Unnamed: 20\"], axis=1)\n",
    "ncaa.columns = [\"Rank\",\"School\",\"Games\",\"Wins\",\"Losses\",\"W/L%\",\"SRS\",\"SOS\",\n",
    "                \"Conf. Wins\",\"Conf. Losses\",\"Home Wins\",\"Home Losses\",\"Away Wins\",\"Away Losses\",\n",
    "               \"Team Points\",\"Opp. Points\",\"Minutes\",\"FG\",\"FGA\",\"FG%\",\"3P\",\"3PA\",\"3P%\",\n",
    "               \"FT\",\"FTA\",\"FT%\",\"ORB\",\"TRB\",\"AST\",\"STL\",\"BLK\",\"TOV\",\"PF\"]\n",
    "\n",
    "# Opponent stats. Initial set up and formatting. Retyping data.\n",
    "ncaa_opp = pd.read_csv(\"2019_Resources/2019_season_opp.csv\")\n",
    "ncaa_opp = ncaa_opp.drop([0])\n",
    "ncaa_opp = ncaa_opp.drop([\"Unnamed: 8\",\"Unnamed: 11\",\"Unnamed: 14\",\"Unnamed: 17\",\"Unnamed: 20\"], axis=1)\n",
    "ncaa_opp.columns = [\"Rank\",\"School\",\"Games\",\"Wins\",\"Losses\",\"W/L%\",\"SRS\",\"SOS\",\n",
    "                \"Conf. Wins\",\"Conf. Losses\",\"Home Wins\",\"Home Losses\",\"Away Wins\",\"Away Losses\",\n",
    "               \"Team Points\",\"Opp. Points\",\"Minutes\",\"FG\",\"FGA\",\"FG%\",\"3P\",\"3PA\",\"3P%\",\n",
    "               \"FT\",\"FTA\",\"FT%\",\"ORB\",\"TRB\",\"AST\",\"STL\",\"BLK\",\"TOV\",\"PF\"]\n",
    "\n",
    "# Sets display to show all columns and rows.\n",
    "pd.set_option(\"display.max_rows\", None, \"display.max_columns\", None)\n",
    "ncaa = ncaa.astype({'Rank': 'int64', 'School':'string', 'Games':'int64', \"Wins\":\"int64\",\n",
    "                   \"Losses\":\"int64\", \"W/L%\":\"float64\",\"SRS\":\"float64\",\"SOS\":\"float64\",\n",
    "                    \"Conf. Wins\":\"int64\",\"Conf. Losses\":\"int64\",\"Home Wins\":\"int64\",\n",
    "                    \"Home Losses\":\"int64\",\"Away Wins\":\"int64\",\"Away Losses\":\"int64\",\n",
    "                    \"Team Points\":\"int64\",\"Opp. Points\":\"int64\",\"Minutes\":\"int64\",\n",
    "                    \"FG\":\"int64\",\"FGA\":\"int64\",\"FG%\":\"float64\",\"3P\":\"int64\",\"3PA\":\"int64\",\n",
    "                    \"3P%\":\"float64\",\"FT\":\"int64\",\"FTA\":\"int64\",\"FT%\":\"float64\",\"ORB\":\"int64\",\n",
    "                    \"TRB\":\"int64\",\"AST\":\"int64\",\"STL\":\"int64\",\"BLK\":\"int64\",\"TOV\":\"int64\",\"PF\":\"int64\"})\n",
    "\n",
    "# Opponent stats. Sets display to show all columns and rows.\n",
    "pd.set_option(\"display.max_rows\", None, \"display.max_columns\", None)\n",
    "ncaa_opp = ncaa_opp.astype({'Rank': 'int64', 'School':'string', 'Games':'int64', \"Wins\":\"int64\",\n",
    "                   \"Losses\":\"int64\", \"W/L%\":\"float64\",\"SRS\":\"float64\",\"SOS\":\"float64\",\n",
    "                    \"Conf. Wins\":\"int64\",\"Conf. Losses\":\"int64\",\"Home Wins\":\"int64\",\n",
    "                    \"Home Losses\":\"int64\",\"Away Wins\":\"int64\",\"Away Losses\":\"int64\",\n",
    "                    \"Team Points\":\"int64\",\"Opp. Points\":\"int64\",\"Minutes\":\"int64\",\n",
    "                    \"FG\":\"int64\",\"FGA\":\"int64\",\"FG%\":\"float64\",\"3P\":\"int64\",\"3PA\":\"int64\",\n",
    "                    \"3P%\":\"float64\",\"FT\":\"int64\",\"FTA\":\"int64\",\"FT%\":\"float64\",\"ORB\":\"int64\",\n",
    "                    \"TRB\":\"int64\",\"AST\":\"int64\",\"STL\":\"int64\",\"BLK\":\"int64\",\"TOV\":\"int64\",\"PF\":\"int64\"})\n"
   ]
  },
  {
   "cell_type": "code",
   "execution_count": null,
   "metadata": {},
   "outputs": [],
   "source": [
    "# Advanced Stats\n",
    "ncaa_adv = pd.read_csv(\"2019_Resources/2019_season_advanced.csv\")\n",
    "ncaa_adv = ncaa_adv.drop([0])\n",
    "ncaa_adv = ncaa_adv.drop([\"Unnamed: 8\",\"Unnamed: 11\",\"Unnamed: 14\",\"Unnamed: 17\",\"Unnamed: 20\"], axis=1)\n",
    "ncaa_adv.columns = [\"Rank\",\"School\",\"Games\",\"Wins\",\"Losses\",\"W/L%\",\"SRS\",\"SOS\",\"Conf. Wins\",\n",
    "                    \"Conf. Losses\",\"Home Wins\",\"Home Losses\",\"Away Wins\",\"Away Losses\",\"Team Points\",\n",
    "                    \"Opp. Points\",\"Pace\",\"Offensive Rating\",\"Free Throw Attempt Rate\",\n",
    "                    \"3P Attempt Rate\",\"TS%\",\"TRB%\",\"AST%\",\"STL%\",\"BLK%\",\"eFG%\",\"TOV%\",\n",
    "                    \"ORB%\",\"FT/FGA\"]\n",
    "\n",
    "# Retyping\n",
    "ncaa_adv = ncaa_adv.astype({'Rank': 'int64', 'School':'string', 'Games':'int64', \"Wins\":\"int64\",\n",
    "                   \"Losses\":\"int64\", \"W/L%\":\"float64\",\"SRS\":\"float64\",\"SOS\":\"float64\",\n",
    "                    \"Conf. Wins\":\"int64\",\"Conf. Losses\":\"int64\",\"Home Wins\":\"int64\",\n",
    "                    \"Home Losses\":\"int64\",\"Away Wins\":\"int64\",\"Away Losses\":\"int64\",\n",
    "                    \"Team Points\":\"int64\",\"Opp. Points\":\"int64\",\"Pace\":\"float64\",\n",
    "                    \"Offensive Rating\":\"float64\",\"Free Throw Attempt Rate\":\"float64\",\n",
    "                   \"3P Attempt Rate\":\"float64\",\"TS%\":\"float64\",\"TRB%\":\"float64\",\n",
    "                   \"AST%\":\"float64\",\"STL%\":\"float64\",\"BLK%\":\"float64\",\"eFG%\":\"float64\",\n",
    "                   \"TOV%\":\"float64\",\"ORB%\":\"float64\",\"FT/FGA\":\"float64\"})\n",
    "\n",
    "# Opponent Advanced Stats\n",
    "ncaa_opp_adv = pd.read_csv(\"2019_Resources/2019_season_opponent_advanced.csv\")\n",
    "ncaa_opp_adv = ncaa_opp_adv.drop([0])\n",
    "ncaa_opp_adv = ncaa_opp_adv.drop([\"Unnamed: 8\",\"Unnamed: 11\",\"Unnamed: 14\",\"Unnamed: 17\",\"Unnamed: 20\"], axis=1)\n",
    "ncaa_opp_adv.columns = [\"Rank\",\"School\",\"Games\",\"Wins\",\"Losses\",\"W/L%\",\"SRS\",\"SOS\",\"Conf. Wins\",\n",
    "                        \"Conf. Losses\",\"Home Wins\",\"Home Losses\",\"Away Wins\",\"Away Losses\",\"Team Points\",\n",
    "                        \"Opp. Points\",\"Pace\",\"Offensive Rating\",\"Free Throw Attempt Rate\",\n",
    "                        \"3P Attempt Rate\",\"TS%\",\"TRB%\",\"AST%\",\"STL%\",\"BLK%\",\"eFG%\",\"TOV%\",\n",
    "                        \"ORB%\",\"FT/FGA\"]\n",
    "\n",
    "# Opponent Retyping\n",
    "ncaa_opp_adv = ncaa_opp_adv.astype({'Rank': 'int64', 'School':'string', 'Games':'int64', \"Wins\":\"int64\",\n",
    "                   \"Losses\":\"int64\", \"W/L%\":\"float64\",\"SRS\":\"float64\",\"SOS\":\"float64\",\n",
    "                    \"Conf. Wins\":\"int64\",\"Conf. Losses\":\"int64\",\"Home Wins\":\"int64\",\n",
    "                    \"Home Losses\":\"int64\",\"Away Wins\":\"int64\",\"Away Losses\":\"int64\",\n",
    "                    \"Team Points\":\"int64\",\"Opp. Points\":\"int64\",\"Pace\":\"float64\",\n",
    "                    \"Offensive Rating\":\"float64\",\"Free Throw Attempt Rate\":\"float64\",\n",
    "                   \"3P Attempt Rate\":\"float64\",\"TS%\":\"float64\",\"TRB%\":\"float64\",\n",
    "                   \"AST%\":\"float64\",\"STL%\":\"float64\",\"BLK%\":\"float64\",\"eFG%\":\"float64\",\n",
    "                   \"TOV%\":\"float64\",\"ORB%\":\"float64\",\"FT/FGA\":\"float64\"})"
   ]
  },
  {
   "cell_type": "code",
   "execution_count": null,
   "metadata": {},
   "outputs": [],
   "source": [
    "ncaa_adv.sort_values(\"SRS\",ascending=False)"
   ]
  },
  {
   "cell_type": "code",
   "execution_count": null,
   "metadata": {},
   "outputs": [],
   "source": [
    "# Additional columns needed for analysis.\n",
    "# EFG%\n",
    "ncaa_adv[\"EFG%\"] = ((ncaa[\"FG\"] + (0.5 * ncaa[\"3P\"])) / ncaa[\"FGA\"])\n",
    "ncaa_opp_adv[\"EFG%\"] = ((ncaa_opp[\"FG\"] + (0.5 * ncaa_opp[\"3P\"])) / ncaa_opp[\"FGA\"])\n",
    "# PPG\n",
    "ncaa[\"PPG\"] = ncaa[\"Team Points\"] / ncaa[\"Games\"]\n",
    "ncaa_opp[\"PPG\"] = ncaa_opp[\"Team Points\"] / ncaa[\"Games\"]\n",
    "# TRB%\n",
    "ncaa_adv[\"TRB%\"] = ncaa[\"TRB\"] / (ncaa[\"TRB\"] + ncaa_opp[\"TRB\"])\n",
    "ncaa_opp_adv[\"TRB%\"] = ncaa_opp[\"TRB\"] / (ncaa[\"TRB\"] + ncaa_opp[\"TRB\"])\n",
    "\n",
    "# Retyping new columns.\n",
    "ncaa_adv = ncaa_adv.astype({\"EFG%\":\"float64\"})\n",
    "ncaa_opp_adv = ncaa_opp_adv.astype({\"EFG%\":\"float64\"})"
   ]
  },
  {
   "cell_type": "code",
   "execution_count": null,
   "metadata": {},
   "outputs": [],
   "source": [
    "# Key Stats\n",
    "key_stats = pd.DataFrame()\n",
    "\n",
    "# Pulls Key Stats\n",
    "key_stats[\"School\"] = ncaa[\"School\"]\n",
    "key_stats[\"Wins\"] = ncaa[\"Wins\"]\n",
    "key_stats[\"Losses\"] = ncaa[\"Losses\"]\n",
    "key_stats[\"SRS\"] = ncaa_adv[\"SRS\"]\n",
    "key_stats[\"TRB%\"] = round(100 * ncaa_adv[\"TRB%\"], 2)\n",
    "key_stats[\"Diff.\"] = round((ncaa[\"Team Points\"]-ncaa[\"Opp. Points\"])/ncaa[\"Games\"],2)\n",
    "key_stats[\"AST\"] = ncaa[\"AST\"]\n",
    "key_stats[\"Pace\"] = ncaa_adv[\"Pace\"]\n",
    "key_stats[\"Rating Diff.\"] = ncaa_adv[\"Offensive Rating\"] - ncaa_opp_adv[\"Offensive Rating\"]\n",
    "key_stats[\"Opp. Off. Rating\"] = ncaa_opp_adv[\"Offensive Rating\"]\n",
    "\n",
    "# Only teams with winning seasons.\n",
    "#key_stats = key_stats[key_stats[\"Wins\"] > key_stats[\"Losses\"]]\n",
    "\n",
    "# Sorts Values\n",
    "key_stats.sort_values(\"SRS\", ascending=False)\n"
   ]
  },
  {
   "cell_type": "code",
   "execution_count": null,
   "metadata": {},
   "outputs": [],
   "source": [
    "k"
   ]
  },
  {
   "cell_type": "code",
   "execution_count": null,
   "metadata": {},
   "outputs": [],
   "source": []
  },
  {
   "cell_type": "code",
   "execution_count": null,
   "metadata": {},
   "outputs": [],
   "source": [
    "# Algorithms\n",
    "algorithms = pd.DataFrame()\n",
    "# Base Data\n",
    "algorithms[\"School\"] = ncaa[\"School\"]\n",
    "\n",
    "# Removes 'NCAA' from school names.\n",
    "algorithms[\"School\"] = algorithms[\"School\"].str.replace('NCAA','') \n",
    "#algorihms[\"Crit\"] = \n",
    "\n",
    "# Version One: (PPG * (EFG%) / Opp. PPG * (Opp. EFG%) / (200 - (TRB%)))\n",
    "algorithms[\"Version One\"] = round(1000 * ((ncaa[\"PPG\"] * ncaa_adv[\"EFG%\"]) / (ncaa_opp[\"PPG\"] * ncaa_opp_adv[\"EFG%\"])) / (200 - ncaa_adv[\"TRB%\"]), 2)\n",
    "# Version Three:\n",
    "algorithms[\"Version Three*\"] = round((ncaa[\"Team Points\"]/ncaa[\"FGA\"])*ncaa_adv[\"Pace\"],2)\n",
    "# Sorts DataFrame by uncommented column.\n",
    "algorithms.sort_values(\"School\", ascending = True)\n",
    "len(algorithms)"
   ]
  },
  {
   "cell_type": "code",
   "execution_count": null,
   "metadata": {},
   "outputs": [],
   "source": [
    "ncaa.columns"
   ]
  },
  {
   "cell_type": "code",
   "execution_count": null,
   "metadata": {},
   "outputs": [],
   "source": [
    "ncaa_adv.columns"
   ]
  },
  {
   "cell_type": "code",
   "execution_count": null,
   "metadata": {},
   "outputs": [],
   "source": [
    "key_stats.sort_values(\"School\", ascending=True)\n",
    "algorithms.sort_values(\"School\", ascending = True)\n",
    "x = key_stats[\"SRS\"] # Change this one.\n",
    "y = key_stats[\"Rating Diff.\"]\n",
    "plt.scatter(x,y)\n",
    "slope,intercept,rvalue,pvalue,stderr = stats.linregress(x,y)\n",
    "regression_line = slope * x + intercept\n",
    "equation = f\"y = {round(slope,2)}x + {round(intercept,2)}\"\n",
    "plt.plot(x, regression_line)\n",
    "plt.ylabel(\"Rating Diff.\")\n",
    "plt.xlabel(\"SRS\")\n",
    "plt.title(f\"{equation}   |   R: {round(rvalue,2)}\")\n",
    "plt.show()"
   ]
  },
  {
   "cell_type": "code",
   "execution_count": null,
   "metadata": {},
   "outputs": [],
   "source": []
  }
 ],
 "metadata": {
  "kernelspec": {
   "display_name": "Python 3",
   "language": "python",
   "name": "python3"
  },
  "language_info": {
   "codemirror_mode": {
    "name": "ipython",
    "version": 3
   },
   "file_extension": ".py",
   "mimetype": "text/x-python",
   "name": "python",
   "nbconvert_exporter": "python",
   "pygments_lexer": "ipython3",
   "version": "3.6.10"
  }
 },
 "nbformat": 4,
 "nbformat_minor": 4
}
