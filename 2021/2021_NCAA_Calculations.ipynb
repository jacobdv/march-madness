{
 "cells": [
  {
   "cell_type": "code",
   "execution_count": 1,
   "metadata": {},
   "outputs": [],
   "source": [
    "# Imports\n",
    "import pandas as pd\n",
    "import numpy as np\n",
    "import matplotlib.pyplot as plt\n",
    "import scipy.stats as stats\n",
    "import statistics as st"
   ]
  },
  {
   "cell_type": "code",
   "execution_count": 5,
   "metadata": {},
   "outputs": [
    {
     "name": "stdout",
     "output_type": "stream",
     "text": [
      "9\n"
     ]
    }
   ],
   "source": [
    "# Initial set up and formatting of table. Retyping data for calculations.\n",
    "ncaa = pd.read_csv(\"2021_Resources/2021_season.csv\")\n",
    "ncaa = ncaa.drop([0])\n",
    "a = (len(ncaa))\n",
    "ncaa = ncaa.drop([\"Unnamed: 8\",\"Unnamed: 11\",\"Unnamed: 14\",\"Unnamed: 17\",\"Unnamed: 20\"], axis=1).dropna()\n",
    "ncaa.columns = [\"Rank\",\"School\",\"Games\",\"Wins\",\"Losses\",\"W/L%\",\"SRS\",\"SOS\",\n",
    "                \"Conf. Wins\",\"Conf. Losses\",\"Home Wins\",\"Home Losses\",\"Away Wins\",\"Away Losses\",\n",
    "               \"Team Points\",\"Opp. Points\",\"Minutes\",\"FG\",\"FGA\",\"FG%\",\"3P\",\"3PA\",\"3P%\",\n",
    "               \"FT\",\"FTA\",\"FT%\",\"ORB\",\"TRB\",\"AST\",\"STL\",\"BLK\",\"TOV\",\"PF\"]\n",
    "b = (len(ncaa))\n",
    "print(a-b)\n",
    "# Opponent stats. Initial set up and formatting. Retyping data.\n",
    "ncaa_opp = pd.read_csv(\"2021_Resources/2021_season_opp.csv\")\n",
    "ncaa_opp = ncaa_opp.drop([0])\n",
    "ncaa_opp = ncaa_opp.drop([\"Unnamed: 8\",\"Unnamed: 11\",\"Unnamed: 14\",\"Unnamed: 17\",\"Unnamed: 20\"], axis=1).dropna()\n",
    "ncaa_opp.columns = [\"Rank\",\"School\",\"Games\",\"Wins\",\"Losses\",\"W/L%\",\"SRS\",\"SOS\",\n",
    "                \"Conf. Wins\",\"Conf. Losses\",\"Home Wins\",\"Home Losses\",\"Away Wins\",\"Away Losses\",\n",
    "               \"Team Points\",\"Opp. Points\",\"Minutes\",\"FG\",\"FGA\",\"FG%\",\"3P\",\"3PA\",\"3P%\",\n",
    "               \"FT\",\"FTA\",\"FT%\",\"ORB\",\"TRB\",\"AST\",\"STL\",\"BLK\",\"TOV\",\"PF\"]\n",
    "\n",
    "# Sets display to show all columns and rows.\n",
    "pd.set_option(\"display.max_rows\", None, \"display.max_columns\", None)\n",
    "ncaa = ncaa.astype({'Rank': 'int64', 'School':'string', 'Games':'int64', \"Wins\":\"int64\",\n",
    "                   \"Losses\":\"int64\", \"W/L%\":\"float64\",\"SRS\":\"float64\",\"SOS\":\"float64\",\n",
    "                    \"Conf. Wins\":\"int64\",\"Conf. Losses\":\"int64\",\"Home Wins\":\"int64\",\n",
    "                    \"Home Losses\":\"int64\",\"Away Wins\":\"int64\",\"Away Losses\":\"int64\",\n",
    "                    \"Team Points\":\"int64\",\"Opp. Points\":\"int64\",\"Minutes\":\"int64\",\n",
    "                    \"FG\":\"int64\",\"FGA\":\"int64\",\"FG%\":\"float64\",\"3P\":\"int64\",\"3PA\":\"int64\",\n",
    "                    \"3P%\":\"float64\",\"FT\":\"int64\",\"FTA\":\"int64\",\"FT%\":\"float64\",\"ORB\":\"int64\",\n",
    "                    \"TRB\":\"int64\",\"AST\":\"int64\",\"STL\":\"int64\",\"BLK\":\"int64\",\"TOV\":\"int64\",\"PF\":\"int64\"})\n",
    "\n",
    "# Opponent stats. Sets display to show all columns and rows.\n",
    "ncaa_opp = ncaa_opp.astype({'Rank': 'int64', 'School':'string', 'Games':'int64', \"Wins\":\"int64\",\n",
    "                   \"Losses\":\"int64\", \"W/L%\":\"float64\",\"SRS\":\"float64\",\"SOS\":\"float64\",\n",
    "                    \"Conf. Wins\":\"int64\",\"Conf. Losses\":\"int64\",\"Home Wins\":\"int64\",\n",
    "                    \"Home Losses\":\"int64\",\"Away Wins\":\"int64\",\"Away Losses\":\"int64\",\n",
    "                    \"Team Points\":\"int64\",\"Opp. Points\":\"int64\",\"Minutes\":\"int64\",\n",
    "                    \"FG\":\"int64\",\"FGA\":\"int64\",\"FG%\":\"float64\",\"3P\":\"int64\",\"3PA\":\"int64\",\n",
    "                    \"3P%\":\"float64\",\"FT\":\"int64\",\"FTA\":\"int64\",\"FT%\":\"float64\",\"ORB\":\"int64\",\n",
    "                    \"TRB\":\"int64\",\"AST\":\"int64\",\"STL\":\"int64\",\"BLK\":\"int64\",\"TOV\":\"int64\",\"PF\":\"int64\"})\n"
   ]
  },
  {
   "cell_type": "code",
   "execution_count": null,
   "metadata": {},
   "outputs": [],
   "source": [
    "# Advanced Stats\n",
    "ncaa_adv = pd.read_csv(\"2021_Resources/2021_season_advanced.csv\")\n",
    "ncaa_adv = ncaa_adv.drop([0])\n",
    "ncaa_adv = ncaa_adv.drop([\"Unnamed: 8\",\"Unnamed: 11\",\"Unnamed: 14\",\"Unnamed: 17\",\"Unnamed: 20\"], axis=1).dropna()\n",
    "ncaa_adv.columns = [\"Rank\",\"School\",\"Games\",\"Wins\",\"Losses\",\"W/L%\",\"SRS\",\"SOS\",\"Conf. Wins\",\n",
    "                    \"Conf. Losses\",\"Home Wins\",\"Home Losses\",\"Away Wins\",\"Away Losses\",\"Team Points\",\n",
    "                    \"Opp. Points\",\"Pace\",\"Offensive Rating\",\"Free Throw Attempt Rate\",\n",
    "                    \"3P Attempt Rate\",\"TS%\",\"TRB%\",\"AST%\",\"STL%\",\"BLK%\",\"eFG%\",\"TOV%\",\n",
    "                    \"ORB%\",\"FT/FGA\"]\n",
    "\n",
    "# Retyping\n",
    "ncaa_adv = ncaa_adv.astype({'Rank': 'int64', 'School':'string', 'Games':'int64', \"Wins\":\"int64\",\n",
    "                   \"Losses\":\"int64\", \"W/L%\":\"float64\",\"SRS\":\"float64\",\"SOS\":\"float64\",\n",
    "                    \"Conf. Wins\":\"int64\",\"Conf. Losses\":\"int64\",\"Home Wins\":\"int64\",\n",
    "                    \"Home Losses\":\"int64\",\"Away Wins\":\"int64\",\"Away Losses\":\"int64\",\n",
    "                    \"Team Points\":\"int64\",\"Opp. Points\":\"int64\",\"Pace\":\"float64\",\n",
    "                    \"Offensive Rating\":\"float64\",\"Free Throw Attempt Rate\":\"float64\",\n",
    "                   \"3P Attempt Rate\":\"float64\",\"TS%\":\"float64\",\"TRB%\":\"float64\",\n",
    "                   \"AST%\":\"float64\",\"STL%\":\"float64\",\"BLK%\":\"float64\",\"eFG%\":\"float64\",\n",
    "                   \"TOV%\":\"float64\",\"ORB%\":\"float64\",\"FT/FGA\":\"float64\"})\n",
    "\n",
    "# Opponent Advanced Stats\n",
    "ncaa_opp_adv = pd.read_csv(\"2021_Resources/2021_season_opponent_advanced.csv\")\n",
    "ncaa_opp_adv = ncaa_opp_adv.drop([0])\n",
    "ncaa_opp_adv = ncaa_opp_adv.drop([\"Unnamed: 8\",\"Unnamed: 11\",\"Unnamed: 14\",\"Unnamed: 17\",\"Unnamed: 20\"], axis=1).dropna()\n",
    "ncaa_opp_adv.columns = [\"Rank\",\"School\",\"Games\",\"Wins\",\"Losses\",\"W/L%\",\"SRS\",\"SOS\",\"Conf. Wins\",\n",
    "                        \"Conf. Losses\",\"Home Wins\",\"Home Losses\",\"Away Wins\",\"Away Losses\",\"Team Points\",\n",
    "                        \"Opp. Points\",\"Pace\",\"Offensive Rating\",\"Free Throw Attempt Rate\",\n",
    "                        \"3P Attempt Rate\",\"TS%\",\"TRB%\",\"AST%\",\"STL%\",\"BLK%\",\"eFG%\",\"TOV%\",\n",
    "                        \"ORB%\",\"FT/FGA\"]\n",
    "\n",
    "# Opponent Retyping\n",
    "ncaa_opp_adv = ncaa_opp_adv.astype({'Rank': 'int64', 'School':'string', 'Games':'int64', \"Wins\":\"int64\",\n",
    "                   \"Losses\":\"int64\", \"W/L%\":\"float64\",\"SRS\":\"float64\",\"SOS\":\"float64\",\n",
    "                    \"Conf. Wins\":\"int64\",\"Conf. Losses\":\"int64\",\"Home Wins\":\"int64\",\n",
    "                    \"Home Losses\":\"int64\",\"Away Wins\":\"int64\",\"Away Losses\":\"int64\",\n",
    "                    \"Team Points\":\"int64\",\"Opp. Points\":\"int64\",\"Pace\":\"float64\",\n",
    "                    \"Offensive Rating\":\"float64\",\"Free Throw Attempt Rate\":\"float64\",\n",
    "                   \"3P Attempt Rate\":\"float64\",\"TS%\":\"float64\",\"TRB%\":\"float64\",\n",
    "                   \"AST%\":\"float64\",\"STL%\":\"float64\",\"BLK%\":\"float64\",\"eFG%\":\"float64\",\n",
    "                   \"TOV%\":\"float64\",\"ORB%\":\"float64\",\"FT/FGA\":\"float64\"})"
   ]
  },
  {
   "cell_type": "code",
   "execution_count": null,
   "metadata": {},
   "outputs": [],
   "source": [
    "# Formatting tables for html.\n",
    "ncaa = ncaa.drop([\"Rank\"],axis=1)\n",
    "ncaa_adv = ncaa_adv.drop([\"Rank\"],axis=1)\n",
    "ncaa_opp = ncaa_opp.drop([\"Rank\"],axis=1)\n",
    "ncaa_opp_adv = ncaa_opp_adv.drop([\"Rank\"],axis=1)"
   ]
  },
  {
   "cell_type": "code",
   "execution_count": null,
   "metadata": {},
   "outputs": [],
   "source": [
    "ncaa[\"W/L%\"] = round(ncaa[\"W/L%\"] * 100,1)\n",
    "ncaa_adv[\"W/L%\"] = round(ncaa_adv[\"W/L%\"] * 100,1)\n",
    "ncaa_adv[\"TS%\"] = round(ncaa_adv[\"TS%\"] * 100,1)\n",
    "ncaa_adv[\"eFG%\"] = round(ncaa_adv[\"eFG%\"] *100,1)\n",
    "ncaa_opp[\"W/L%\"] = round(ncaa_opp[\"W/L%\"] * 100,1)\n",
    "ncaa_opp_adv[\"W/L%\"] = round(ncaa_opp_adv[\"W/L%\"] * 100,1)\n",
    "ncaa_opp_adv[\"TS%\"] = round(ncaa_opp_adv[\"TS%\"] * 100,1)\n",
    "ncaa_opp_adv[\"eFG%\"] = round(ncaa_opp_adv[\"eFG%\"] * 100,1)"
   ]
  },
  {
   "cell_type": "code",
   "execution_count": null,
   "metadata": {},
   "outputs": [],
   "source": [
    "def remove_NCAA(school):\n",
    "    school = school.replace(\" NCAA\",\"\")\n",
    "    return school"
   ]
  },
  {
   "cell_type": "code",
   "execution_count": null,
   "metadata": {},
   "outputs": [],
   "source": [
    "# Key Stats\n",
    "cs = pd.DataFrame()\n",
    "\n",
    "# Pulls Additional Stats\n",
    "cs[\"School\"] = ncaa[\"School\"]\n",
    "cs[\"Games\"] = ncaa[\"Games\"]\n",
    "cs[\"ORS%\"] = round(100 * (ncaa[\"ORB\"] / (ncaa[\"ORB\"] + (ncaa_opp[\"TRB\"] - ncaa_opp[\"ORB\"]))),2)\n",
    "cs[\"DRS%\"] = round(100 * (ncaa[\"TRB\"] - ncaa[\"ORB\"]) / ((ncaa[\"TRB\"] - ncaa[\"ORB\"]) + ncaa_opp[\"ORB\"]),2)\n",
    "cs[\"TRS%\"] = cs[\"ORS%\"] + cs[\"DRS%\"]\n",
    "cs[\"A%\"] = round((ncaa[\"AST\"] / ncaa[\"FG\"]),2)\n",
    "cs[\"Pace\"] = ncaa_adv[\"Pace\"]\n",
    "cs[\"FGA\"] = ncaa[\"FGA\"]\n",
    "cs[\"FG%\"] = ncaa[\"FG%\"]\n",
    "cs[\"FT/FGA\"] = ncaa_adv[\"FT/FGA\"]\n",
    "cs[\"FT%\"] = ncaa[\"FT%\"]\n",
    "cs[\"FT\"] = ncaa[\"FT\"]\n",
    "cs[\"FTA\"] = ncaa[\"FTA\"]\n",
    "cs[\"3PAr\"] = ncaa_adv[\"3P Attempt Rate\"]\n",
    "cs[\"2P%\"] =  ((ncaa[\"FG\"] - ncaa[\"3P\"]) / (ncaa[\"FGA\"] - ncaa[\"3PA\"]))\n",
    "cs[\"3P%\"] = ncaa[\"3P%\"]\n",
    "cs[\"AST\"] = ncaa[\"AST\"]\n",
    "\n",
    "# Filter Stats\n",
    "cs[\"W%\"] = round(100 * (ncaa[\"Wins\"]/ncaa[\"Games\"]),1)\n",
    "cs[\"SOS\"] = ncaa[\"SOS\"]\n",
    "\n",
    "# Filter - Removes schools with losing seasons and below average schedule strengths.\n",
    "#cs = cs[cs[\"W%\"] >= avg_w_pct]\n",
    "#cs = cs[cs[\"SOS\"] >= avg_sos]\n",
    "\n",
    "# Returns to non-filter stats.\n",
    "#cs = cs[['School','ORS%','DRS%','TRS%','A%']]\n",
    "\n",
    "# Sorts to Display\n",
    "school_list = []\n",
    "for school in cs[\"School\"]:\n",
    "    school = remove_NCAA(school)\n",
    "    school_list.append(school)\n",
    "cs[\"School\"] = school_list\n",
    "#cs.sort_values(\"TRS%\", ascending=False)\n",
    "cs = cs.set_index(\"School\")\n",
    "cs"
   ]
  },
  {
   "cell_type": "code",
   "execution_count": null,
   "metadata": {},
   "outputs": [],
   "source": [
    "cs.describe()"
   ]
  },
  {
   "cell_type": "code",
   "execution_count": null,
   "metadata": {},
   "outputs": [],
   "source": [
    "test = cs[cs[\"A%\"] > 0.56]\n",
    "test.describe()"
   ]
  },
  {
   "cell_type": "code",
   "execution_count": null,
   "metadata": {},
   "outputs": [],
   "source": [
    "ncaa_adv.describe()"
   ]
  },
  {
   "cell_type": "code",
   "execution_count": null,
   "metadata": {},
   "outputs": [],
   "source": [
    "b = \"BLK%\"\n",
    "a = \"W%\"\n",
    "x = cs[a] # Change this one.\n",
    "y = ncaa_adv[b]\n",
    "plt.scatter(x,y)\n",
    "slope,intercept,rvalue,pvalue,stderr = stats.linregress(x,y)\n",
    "regression_line = slope * x + intercept\n",
    "equation = f\"y = {round(slope,2)}x + {round(intercept,2)}\"\n",
    "plt.plot(x, regression_line)\n",
    "plt.xlabel(a)\n",
    "plt.ylabel(b)\n",
    "plt.title(f\"{b} vs. {a}\\n{equation}   |   R: {round(rvalue,2)}\")\n",
    "plt.tight_layout()\n",
    "plt.savefig(f\"Graphs/{b}_vs_{a}\")\n",
    "plt.show()"
   ]
  },
  {
   "cell_type": "code",
   "execution_count": null,
   "metadata": {},
   "outputs": [],
   "source": []
  }
 ],
 "metadata": {
  "kernelspec": {
   "display_name": "PythonData",
   "language": "python",
   "name": "pythondata"
  },
  "language_info": {
   "codemirror_mode": {
    "name": "ipython",
    "version": 3
   },
   "file_extension": ".py",
   "mimetype": "text/x-python",
   "name": "python",
   "nbconvert_exporter": "python",
   "pygments_lexer": "ipython3",
   "version": "3.6.10"
  }
 },
 "nbformat": 4,
 "nbformat_minor": 4
}
